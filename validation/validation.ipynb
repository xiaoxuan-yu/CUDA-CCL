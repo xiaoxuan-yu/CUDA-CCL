{
 "cells": [
  {
   "cell_type": "code",
   "execution_count": 8,
   "metadata": {},
   "outputs": [],
   "source": [
    "import numpy as np\n",
    "import cv2 as cv\n",
    "from val import binary_image_from_file, map_label, visualize"
   ]
  },
  {
   "cell_type": "code",
   "execution_count": 9,
   "metadata": {},
   "outputs": [],
   "source": [
    "# load all pixel files\n",
    "def load_files(set, path):\n",
    "    return [\n",
    "        (binary_image_from_file(f\"./{path}/{set}_{i}.txt\"), i)\n",
    "        for i in [\"debug\", \"1\", \"2\", \"3\", \"4\"]\n",
    "    ]"
   ]
  },
  {
   "cell_type": "code",
   "execution_count": 10,
   "metadata": {},
   "outputs": [],
   "source": [
    "# component labels\n",
    "labels = load_files(\"labels\", \"data\")"
   ]
  },
  {
   "cell_type": "code",
   "execution_count": 11,
   "metadata": {},
   "outputs": [],
   "source": [
    "# load KE and BKE files\n",
    "KE = load_files(\"KE_labels\", \"data\")"
   ]
  },
  {
   "cell_type": "code",
   "execution_count": 12,
   "metadata": {},
   "outputs": [],
   "source": [
    "# KE and cv labels alignement, mapping to the same label\n",
    "mapped_KE = []\n",
    "for i in range(len(KE)):\n",
    "    flag_KE, mapped_KE_ = map_label(KE[i][0], labels[i][0])\n",
    "    if not flag_KE:\n",
    "        print(f\"KE and cv for {i} not aligned\")\n",
    "    mapped_KE.append(mapped_KE_)"
   ]
  },
  {
   "cell_type": "code",
   "execution_count": 13,
   "metadata": {},
   "outputs": [],
   "source": [
    "# visualize\n",
    "for i, f in enumerate([\"debug\", \"1\", \"2\", \"3\", \"4\"]):\n",
    "    KE_filename = \"KE_labels_\" + f\n",
    "    cv_filename = \"serial_labels_\" + f\n",
    "    visualize(mapped_KE[i], KE_filename)\n",
    "    visualize(labels[i][0], cv_filename)"
   ]
  },
  {
   "cell_type": "code",
   "execution_count": null,
   "metadata": {},
   "outputs": [],
   "source": []
  }
 ],
 "metadata": {
  "kernelspec": {
   "display_name": "opencv",
   "language": "python",
   "name": "python3"
  },
  "language_info": {
   "codemirror_mode": {
    "name": "ipython",
    "version": 3
   },
   "file_extension": ".py",
   "mimetype": "text/x-python",
   "name": "python",
   "nbconvert_exporter": "python",
   "pygments_lexer": "ipython3",
   "version": "3.10.14"
  }
 },
 "nbformat": 4,
 "nbformat_minor": 2
}
